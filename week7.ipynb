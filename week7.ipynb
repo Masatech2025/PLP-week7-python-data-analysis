{
 "cells": [
  {
   "cell_type": "code",
   "id": "initial_id",
   "metadata": {
    "collapsed": true,
    "jupyter": {
     "is_executing": true
    }
   },
   "source": [
    "import pandas as pd\n",
    "import seaborn as sns\n",
    "import matplotlib.pyplot as plt\n",
    "from sklearn.datasets import load_iris\n",
    "\n",
    "# Load the dataset with error handling\n",
    "try:\n",
    "    iris = load_iris()\n",
    "    df = pd.DataFrame(data=iris.data, columns=iris.feature_names)\n",
    "    df['target'] = iris.target\n",
    "    df['species'] = pd.Categorical.from_codes(iris.target, iris.target_names)\n",
    "    print(\"Dataset loaded successfully.\\n\")\n",
    "except Exception as e:\n",
    "    print(\"Error loading dataset:\", e)\n",
    "\n",
    "print(\"First 5 rows of the dataset:\")\n",
    "display(df.head())\n",
    "\n",
    "print(\"\\nDataset Summary:\")\n",
    "display(df.describe())\n",
    "\n",
    "# Check for missing values\n",
    "if df.isnull().sum().any():\n",
    "    df.dropna(inplace=True)\n",
    "    print(\"Missing values found and removed.\")\n",
    "else:\n",
    "    print(\"No missing values found.\\n\")\n",
    "\n",
    "# Pairplot\n",
    "sns.pairplot(df, hue=\"species\")\n",
    "plt.suptitle(\"Pairplot of Iris Dataset\", y=1.02)\n",
    "plt.show()\n",
    "\n",
    "# Boxplot\n",
    "plt.figure(figsize=(8, 5))\n",
    "sns.boxplot(x='species', y='sepal length (cm)', data=df)\n",
    "plt.title(\"Sepal Length by Species\")\n",
    "plt.xlabel(\"Species\")\n",
    "plt.ylabel(\"Sepal Length (cm)\")\n",
    "plt.show()\n",
    "\n",
    "# Heatmap\n",
    "plt.figure(figsize=(8, 6))\n",
    "sns.heatmap(df.iloc[:, :4].corr(), annot=True, cmap=\"YlGnBu\", linewidths=0.5)\n",
    "plt.title(\"Correlation Heatmap\")\n",
    "plt.show()\n",
    "\n",
    "# Histogram\n",
    "plt.figure(figsize=(7, 4))\n",
    "for species in df['species'].unique():\n",
    "    sns.histplot(df[df['species'] == species]['petal length (cm)'], kde=True, label=species)\n",
    "plt.title(\"Petal Length Distribution by Species\")\n",
    "plt.xlabel(\"Petal Length (cm)\")\n",
    "plt.legend()\n",
    "plt.show()\n",
    "\n",
    "# Insights\n",
    "print(\"Insights:\")\n",
    "print(\"- Setosa petals are generally shorter and narrower.\")\n",
    "print(\"- Strong correlation between petal width and petal length.\")\n",
    "print(\"- Dataset is well-balanced and suitable for classification.\\n\")\n"
   ],
   "outputs": [],
   "execution_count": null
  },
  {
   "metadata": {},
   "cell_type": "code",
   "outputs": [],
   "execution_count": null,
   "source": "",
   "id": "36e1e13022560f1d"
  }
 ],
 "metadata": {
  "kernelspec": {
   "display_name": "Python 3",
   "language": "python",
   "name": "python3"
  },
  "language_info": {
   "codemirror_mode": {
    "name": "ipython",
    "version": 2
   },
   "file_extension": ".py",
   "mimetype": "text/x-python",
   "name": "python",
   "nbconvert_exporter": "python",
   "pygments_lexer": "ipython2",
   "version": "2.7.6"
  }
 },
 "nbformat": 4,
 "nbformat_minor": 5
}
